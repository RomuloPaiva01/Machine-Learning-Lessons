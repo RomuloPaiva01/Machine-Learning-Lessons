{
 "cells": [
  {
   "cell_type": "markdown",
   "metadata": {},
   "source": [
    "# Este será 1 primeiro de muitos tutoriais sobre machine learning. Iremos começar com uma das técnicas mais básicas de todas, a Regressão.\n",
    "\n",
    "Basicamente, o problema de regressão é o seguinte: Eu tenho um conjunto de dados, e quero definir qual função, de uma família específica de funções, é a que melhor descreve o meu problema.\n",
    "\n",
    "De início já é fácil perceber que este problema envolve uma etapa muito importante que deve ser determinada pelo usuário. A determinação da família de funções.\n",
    "\n",
    "Pro exemplo, se eu estou no R2, e meus pontos estão de uma maneira quase linear, então a família de funções f(x) = a*x + b é uma pedida. Caso os meus dados se assemelhem à uma parábola, eu deverei usar a família de funções da forma f(x) = ax^2 + bx + c, com a diferente de 0.\n",
    "\n",
    "Mas afinal, após determinar a nossa família de funções, qual critério adotar para dizer que f(x) é uma escolha melhor que g(x)?\n",
    "\n",
    "Neste caso, escolhemos a função, dentre as funções da família, que minimiza a soma do quadrado das distâncias, onde a distância, no geral, é tomada como a distância euclideana, ou seja, a distância entre ponto a e b é o \"tamanho\" do segmento de reta que une a e b.\n",
    "\n",
    "Matemáticamente, queremos minimizar o seguinte problema:\n",
    "\n",
    "\n",
    "Min: g(x) = (f(x1) - x1)^2 + (f(x2) - x2)^2 + ... (f(xn) - xn)^2\n",
    "\n",
    "\n",
    "Em termos de implementação, podemos utilizar a biblioteca sklearn\n",
    "\n",
    "\n",
    "\n",
    "Por exemplo, vamos ver a relação entre horas estudadas e nota das provas de uma pequena turma de uma escola\n",
    "\n",
    "\n",
    "\n",
    "\n"
   ]
  },
  {
   "cell_type": "code",
   "execution_count": 1,
   "metadata": {},
   "outputs": [],
   "source": [
    "#função utilizada para gerar inteiros aletórios dentro de um intervalo\n",
    "from random import randint\n",
    "\n",
    "#para fazermos plots\n",
    "import matplotlib.pyplot as plot\n",
    "\n",
    "\n",
    "\n",
    "#numero de alunos de uma determinada disciplina\n",
    "numero_alunos = 40\n",
    "\n",
    "#lista que ira conter esses alunos\n",
    "lista_alunos = []\n",
    "\n",
    "\n",
    "\n",
    "\n",
    "#classe aluno\n",
    "\n",
    "#cada aluno ira ser identificado por um numero (id), além de ter as horas estudadas e a sua nota\n",
    "class aluno():\n",
    "    \n",
    "    \n",
    "   def  __init__(self, numero, horas_estudadas, nota):\n",
    "       \n",
    "       \n",
    "       self.numero = numero\n",
    "       self.horas_estudadas = horas_estudadas\n",
    "       self.nota = nota\n",
    "       \n",
    "       \n",
    "       \n",
    "   #metodo que coloca uma nota entre 0 e 10\n",
    "    \n",
    "   def m_coloca_horas(self):\n",
    "        \n",
    "       self.horas_estudadas = randint(0, 10)\n",
    "    \n",
    "    \n",
    "   #metodo que coloca uma nota aleatorio dentro de um intervalo, sendo funcao do numero de horas de estudo \n",
    "   def m_coloca_nota(self):\n",
    "       \n",
    "       self.nota = randint(max(0, self.horas_estudadas - 2), min(self.horas_estudadas + 2, 10))\n",
    "        \n",
    "        \n",
    "   #metodo que nos auxilia a criar um dataframe mais tarde\n",
    "\n",
    "   #creditos ao autor do seguinte link: https://stackoverflow.com/questions/34997174/how-to-convert-list-of-model-objects-to-pandas-dataframe     \n",
    "   def m_para_df(self):\n",
    "       \n",
    "       \n",
    "        return {\n",
    "                \n",
    "            'numero': self.numero,\n",
    "            'horas estudadas': self.horas_estudadas,\n",
    "            'nota':self.nota\n",
    "        }\n",
    "   \n",
    "    \n",
    "\n",
    "\n",
    "\n",
    "#criando uma lista com n alunos, colocando um numero único para cada um  chamando os métodos   \n",
    "for i in range(0, numero_alunos):\n",
    "    \n",
    "    \n",
    "    lista_alunos.append(aluno(i+1,0,0))\n",
    "    \n",
    "    lista_alunos[-1].m_coloca_horas()\n",
    "    \n",
    "    lista_alunos[-1].m_coloca_nota()\n",
    "    \n",
    "    \n",
    "    \n"
   ]
  },
  {
   "cell_type": "markdown",
   "metadata": {},
   "source": [
    "Podemos então observar, por exemplo, o que um dos objetos alunos possuem\n"
   ]
  },
  {
   "cell_type": "code",
   "execution_count": 2,
   "metadata": {},
   "outputs": [
    {
     "name": "stdout",
     "output_type": "stream",
     "text": [
      "id do aluno: 40, numero de horas estudadas = 7, nota = 6\n"
     ]
    }
   ],
   "source": [
    "print(\"id do aluno: {}, numero de horas estudadas = {}, nota = {}\".format(lista_alunos[-1].numero, lista_alunos[-1].horas_estudadas, lista_alunos[-1].nota))\n"
   ]
  },
  {
   "cell_type": "markdown",
   "metadata": {},
   "source": [
    "Agora, podemos fazer um plot das horas estudadas e das notas para termos uma noção de como eles se comportaram.\n",
    "\n",
    "Mas antes disso, seria muito mais fácil colocar as informações dos alunos em um dataframe, pois assim poderíamos ter uma noção mais ampla do que esta acontecendo, além de ter mais facilidades ao fazer o plot."
   ]
  },
  {
   "cell_type": "code",
   "execution_count": 3,
   "metadata": {},
   "outputs": [
    {
     "name": "stdout",
     "output_type": "stream",
     "text": [
      "   horas estudadas  nota  numero\n",
      "0                0     0       1\n",
      "1                3     3       2\n",
      "2                7     7       3\n",
      "3                0     2       4\n",
      "4                8     9       5\n",
      "    horas estudadas  nota  numero\n",
      "35                9     8      36\n",
      "36               10     9      37\n",
      "37                0     1      38\n",
      "38               10    10      39\n",
      "39                7     6      40\n"
     ]
    }
   ],
   "source": [
    "#agora, iremos passar a nossa lista para um dataframe, pois eh mais facil de visualizarmos os dados\n",
    "\n",
    "#importando a biblioteca pandas, que é a biblioteca utilzada para dataframes\n",
    "import pandas as pd\n",
    "\n",
    "#criando um dataframe para os alunos\n",
    "df_alunos = pd.DataFrame.from_records([aluno.m_para_df() for aluno in lista_alunos])\n",
    "\n",
    "\n",
    "#verificando as informações do dataframe\n",
    "\n",
    "# mostrando a informacao sobre os 5 primeiros alunos\n",
    "\n",
    "print(df_alunos.head())\n",
    "\n",
    "#mostrando a informação sobre os 5 últimos alunos\n",
    "print(df_alunos.tail())"
   ]
  },
  {
   "cell_type": "code",
   "execution_count": 4,
   "metadata": {},
   "outputs": [
    {
     "data": {
      "image/png": "[encoded data removed]",
      "text/plain": [
       "<Figure size 432x288 with 1 Axes>"
      ]
     },
     "metadata": {},
     "output_type": "display_data"
    }
   ],
   "source": [
    "#plotando agora o grafico horas estudadas vs nota\n",
    "\n",
    "df_alunos.plot(x='horas estudadas', y='nota', style='o')"
   ]
  },
  {
   "cell_type": "markdown",
   "metadata": {},
   "source": [
    "Podemos ver que, no geral, uma reta descreve bem a relação entre horas estudadas e notas dos alunos para a dada matéria."
   ]
  },
  {
   "cell_type": "code",
   "execution_count": 5,
   "metadata": {},
   "outputs": [
    {
     "data": {
      "image/png": "[encoded data removed]",
      "text/plain": [
       "<Figure size 432x288 with 1 Axes>"
      ]
     },
     "metadata": {},
     "output_type": "display_data"
    }
   ],
   "source": [
    "\n",
    "from sklearn.linear_model import LinearRegression\n",
    "\n",
    "\n",
    "\n",
    "#primeiro, temos que criar um objeto da classe LinearRegression\n",
    "\n",
    "\n",
    "modelo = LinearRegression()\n",
    "\n",
    "#nao passando nenhum parametro, usaremos todos eles como default\n",
    "\n",
    "\n",
    "\n",
    "'''\n",
    "\n",
    "Precisamos, primeiro, transformar a nossa coluna de dataframe para um array, por isso usamos .values\n",
    "Após isso, precisamos dar reshape(-1,1) para podermos colocar no formato que a biblioteca pede.\n",
    "Caso não esteja nesse formato, aparecerá um Warning avisando qual reshape deve ser utilizado\n",
    "\n",
    "'''\n",
    "modelo.fit((df_alunos['horas estudadas'].values).reshape(-1,1), df_alunos['nota'].values)\n",
    "\n",
    "\n",
    "\n",
    "plot.scatter((df_alunos['horas estudadas'].values).reshape(-1,1), df_alunos['nota'].values, color = 'blue')\n",
    "plot.plot((df_alunos['horas estudadas'].values).reshape(-1,1), modelo.predict((df_alunos['horas estudadas'].values).reshape(-1,1)), color = 'red')\n",
    "plot.title('Regressão Linear')\n",
    "plot.xlabel('Horas Estudadas')\n",
    "plot.ylabel('Nota')\n",
    "plot.show()\n"
   ]
  },
  {
   "cell_type": "code",
   "execution_count": null,
   "metadata": {},
   "outputs": [],
   "source": []
  }
 ],
 "metadata": {
  "kernelspec": {
   "display_name": "Python 3",
   "language": "python",
   "name": "python3"
  },
  "language_info": {
   "codemirror_mode": {
    "name": "ipython",
    "version": 3
   },
   "file_extension": ".py",
   "mimetype": "text/x-python",
   "name": "python",
   "nbconvert_exporter": "python",
   "pygments_lexer": "ipython3",
   "version": "3.6.5"
  }
 },
 "nbformat": 4,
 "nbformat_minor": 2
}
